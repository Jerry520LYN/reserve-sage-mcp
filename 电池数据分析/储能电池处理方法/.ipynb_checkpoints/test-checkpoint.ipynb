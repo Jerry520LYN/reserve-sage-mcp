{
 "cells": [
  {
   "cell_type": "code",
   "execution_count": null,
   "id": "aeebd796",
   "metadata": {},
   "outputs": [
    {
     "data": {
      "text/plain": [
       "0    1.0\n",
       "1    3.0\n",
       "2    5.0\n",
       "3    NaN\n",
       "4    6.0\n",
       "5    8.0\n",
       "dtype: float64"
      ]
     },
     "execution_count": 62,
     "metadata": {},
     "output_type": "execute_result"
    }
   ],
   "source": [
    "import numpy as np\n",
    "import pandas as pd\n",
    "# Series: a one-dimensional labeled array holding data of any type\n",
    "# such as integers, strings, Python objects etc.\n",
    "\n",
    "# DataFrame: a two-dimensional data structure that holds data like a two-dimension array or a table with rows and columns.\n",
    "\n",
    "s = pd.Series([1, 3, 5, np.nan, 6, 8])\n",
    "s"
   ]
  },
  {
   "cell_type": "code",
   "execution_count": 33,
   "id": "5092009c",
   "metadata": {},
   "outputs": [
    {
     "data": {
      "text/plain": [
       "DatetimeIndex(['2013-01-01', '2013-01-02', '2013-01-03', '2013-01-04',\n",
       "               '2013-01-05', '2013-01-06'],\n",
       "              dtype='datetime64[ns]', freq='D')"
      ]
     },
     "execution_count": 33,
     "metadata": {},
     "output_type": "execute_result"
    }
   ],
   "source": [
    "dates = pd.date_range('20130101', periods=6)\n",
    "dates"
   ]
  },
  {
   "cell_type": "code",
   "execution_count": 34,
   "id": "2ad1e0fa",
   "metadata": {},
   "outputs": [
    {
     "data": {
      "text/html": [
       "<div>\n",
       "<style scoped>\n",
       "    .dataframe tbody tr th:only-of-type {\n",
       "        vertical-align: middle;\n",
       "    }\n",
       "\n",
       "    .dataframe tbody tr th {\n",
       "        vertical-align: top;\n",
       "    }\n",
       "\n",
       "    .dataframe thead th {\n",
       "        text-align: right;\n",
       "    }\n",
       "</style>\n",
       "<table border=\"1\" class=\"dataframe\">\n",
       "  <thead>\n",
       "    <tr style=\"text-align: right;\">\n",
       "      <th></th>\n",
       "      <th>A</th>\n",
       "      <th>B</th>\n",
       "      <th>C</th>\n",
       "      <th>D</th>\n",
       "    </tr>\n",
       "  </thead>\n",
       "  <tbody>\n",
       "    <tr>\n",
       "      <th>2013-01-01</th>\n",
       "      <td>0.492442</td>\n",
       "      <td>-0.660848</td>\n",
       "      <td>1.325014</td>\n",
       "      <td>-0.134426</td>\n",
       "    </tr>\n",
       "    <tr>\n",
       "      <th>2013-01-02</th>\n",
       "      <td>1.291120</td>\n",
       "      <td>-0.269870</td>\n",
       "      <td>-1.241519</td>\n",
       "      <td>-0.804308</td>\n",
       "    </tr>\n",
       "    <tr>\n",
       "      <th>2013-01-03</th>\n",
       "      <td>-0.081053</td>\n",
       "      <td>1.601045</td>\n",
       "      <td>-0.137919</td>\n",
       "      <td>-1.039423</td>\n",
       "    </tr>\n",
       "    <tr>\n",
       "      <th>2013-01-04</th>\n",
       "      <td>-0.851981</td>\n",
       "      <td>-0.037322</td>\n",
       "      <td>-2.100062</td>\n",
       "      <td>-0.677439</td>\n",
       "    </tr>\n",
       "    <tr>\n",
       "      <th>2013-01-05</th>\n",
       "      <td>0.613908</td>\n",
       "      <td>0.711906</td>\n",
       "      <td>-0.387672</td>\n",
       "      <td>1.449137</td>\n",
       "    </tr>\n",
       "    <tr>\n",
       "      <th>2013-01-06</th>\n",
       "      <td>0.677387</td>\n",
       "      <td>-0.292343</td>\n",
       "      <td>0.500383</td>\n",
       "      <td>0.871884</td>\n",
       "    </tr>\n",
       "  </tbody>\n",
       "</table>\n",
       "</div>"
      ],
      "text/plain": [
       "                   A         B         C         D\n",
       "2013-01-01  0.492442 -0.660848  1.325014 -0.134426\n",
       "2013-01-02  1.291120 -0.269870 -1.241519 -0.804308\n",
       "2013-01-03 -0.081053  1.601045 -0.137919 -1.039423\n",
       "2013-01-04 -0.851981 -0.037322 -2.100062 -0.677439\n",
       "2013-01-05  0.613908  0.711906 -0.387672  1.449137\n",
       "2013-01-06  0.677387 -0.292343  0.500383  0.871884"
      ]
     },
     "execution_count": 34,
     "metadata": {},
     "output_type": "execute_result"
    }
   ],
   "source": [
    "# 以下代码使用 pandas 库创建一个 DataFrame 对象\n",
    "# pd.DataFrame 是 pandas 中用于创建数据框的函数\n",
    "# np.random.randn(6,4) 使用 numpy 库生成一个 6 行 4 列的二维数组，数组中的元素是从标准正态分布中随机采样得到的\n",
    "# index = dates 指定数据框的行索引为变量 dates，这里的 dates 应该是一个预先定义好的索引对象\n",
    "# columns=list(\"ABCD\") 指定数据框的列名分别为 'A', 'B', 'C', 'D'\n",
    "df = pd.DataFrame(np.random.randn(6,4),index = dates,columns=list(\"ABCD\"))\n",
    "# 下面这个是生成均匀分布的例子\n",
    "DF = pd.DataFrame(np.random.rand(6,4),index=dates,columns=list(\"ABCD\"))\n",
    "df\n",
    "#DF"
   ]
  },
  {
   "cell_type": "code",
   "execution_count": 35,
   "id": "9eebf79e",
   "metadata": {},
   "outputs": [
    {
     "data": {
      "text/html": [
       "<div>\n",
       "<style scoped>\n",
       "    .dataframe tbody tr th:only-of-type {\n",
       "        vertical-align: middle;\n",
       "    }\n",
       "\n",
       "    .dataframe tbody tr th {\n",
       "        vertical-align: top;\n",
       "    }\n",
       "\n",
       "    .dataframe thead th {\n",
       "        text-align: right;\n",
       "    }\n",
       "</style>\n",
       "<table border=\"1\" class=\"dataframe\">\n",
       "  <thead>\n",
       "    <tr style=\"text-align: right;\">\n",
       "      <th></th>\n",
       "      <th>A</th>\n",
       "      <th>B</th>\n",
       "      <th>C</th>\n",
       "      <th>D</th>\n",
       "      <th>E</th>\n",
       "      <th>F</th>\n",
       "    </tr>\n",
       "  </thead>\n",
       "  <tbody>\n",
       "    <tr>\n",
       "      <th>0</th>\n",
       "      <td>1.0</td>\n",
       "      <td>2018-01-01</td>\n",
       "      <td>1.0</td>\n",
       "      <td>3</td>\n",
       "      <td>test</td>\n",
       "      <td>foo</td>\n",
       "    </tr>\n",
       "    <tr>\n",
       "      <th>1</th>\n",
       "      <td>1.0</td>\n",
       "      <td>2018-01-01</td>\n",
       "      <td>1.0</td>\n",
       "      <td>3</td>\n",
       "      <td>train</td>\n",
       "      <td>foo</td>\n",
       "    </tr>\n",
       "    <tr>\n",
       "      <th>2</th>\n",
       "      <td>1.0</td>\n",
       "      <td>2018-01-01</td>\n",
       "      <td>1.0</td>\n",
       "      <td>3</td>\n",
       "      <td>test</td>\n",
       "      <td>foo</td>\n",
       "    </tr>\n",
       "    <tr>\n",
       "      <th>3</th>\n",
       "      <td>1.0</td>\n",
       "      <td>2018-01-01</td>\n",
       "      <td>1.0</td>\n",
       "      <td>3</td>\n",
       "      <td>train</td>\n",
       "      <td>foo</td>\n",
       "    </tr>\n",
       "  </tbody>\n",
       "</table>\n",
       "</div>"
      ],
      "text/plain": [
       "     A          B    C  D      E    F\n",
       "0  1.0 2018-01-01  1.0  3   test  foo\n",
       "1  1.0 2018-01-01  1.0  3  train  foo\n",
       "2  1.0 2018-01-01  1.0  3   test  foo\n",
       "3  1.0 2018-01-01  1.0  3  train  foo"
      ]
     },
     "execution_count": 35,
     "metadata": {},
     "output_type": "execute_result"
    }
   ],
   "source": [
    "df2 = pd.DataFrame(\n",
    "    {\n",
    "        \"A\": 1.0,\n",
    "        \"B\": pd.Timestamp(\"20180101\"),\n",
    "        \"C\": pd.Series(1,index=list(range(4)),dtype=\"float32\"),\n",
    "        \"D\": np.array([3]*4,dtype=\"int32\"),\n",
    "        \"E\": pd.Categorical([\"test\",\"train\",\"test\",\"train\"]),\n",
    "        \"F\": \"foo\",\n",
    "    }\n",
    ")\n",
    "\n",
    "df2"
   ]
  },
  {
   "cell_type": "code",
   "execution_count": 36,
   "id": "57e584c1",
   "metadata": {},
   "outputs": [
    {
     "data": {
      "text/plain": [
       "A           float64\n",
       "B    datetime64[ns]\n",
       "C           float32\n",
       "D             int32\n",
       "E          category\n",
       "F            object\n",
       "dtype: object"
      ]
     },
     "execution_count": 36,
     "metadata": {},
     "output_type": "execute_result"
    }
   ],
   "source": [
    "df2.dtypes"
   ]
  },
  {
   "cell_type": "code",
   "execution_count": null,
   "id": "8f4b0a63",
   "metadata": {},
   "outputs": [
    {
     "data": {
      "text/plain": [
       "0    1.0\n",
       "1    1.0\n",
       "2    1.0\n",
       "3    1.0\n",
       "Name: A, dtype: float64"
      ]
     },
     "execution_count": 37,
     "metadata": {},
     "output_type": "execute_result"
    }
   ],
   "source": [
    "df2.A"
   ]
  },
  {
   "cell_type": "code",
   "execution_count": 44,
   "id": "0cfd70b8",
   "metadata": {},
   "outputs": [
    {
     "data": {
      "text/html": [
       "<div>\n",
       "<style scoped>\n",
       "    .dataframe tbody tr th:only-of-type {\n",
       "        vertical-align: middle;\n",
       "    }\n",
       "\n",
       "    .dataframe tbody tr th {\n",
       "        vertical-align: top;\n",
       "    }\n",
       "\n",
       "    .dataframe thead th {\n",
       "        text-align: right;\n",
       "    }\n",
       "</style>\n",
       "<table border=\"1\" class=\"dataframe\">\n",
       "  <thead>\n",
       "    <tr style=\"text-align: right;\">\n",
       "      <th></th>\n",
       "      <th>A</th>\n",
       "      <th>B</th>\n",
       "      <th>C</th>\n",
       "      <th>D</th>\n",
       "    </tr>\n",
       "  </thead>\n",
       "  <tbody>\n",
       "    <tr>\n",
       "      <th>2013-01-01</th>\n",
       "      <td>0.492442</td>\n",
       "      <td>-0.660848</td>\n",
       "      <td>1.325014</td>\n",
       "      <td>-0.134426</td>\n",
       "    </tr>\n",
       "    <tr>\n",
       "      <th>2013-01-02</th>\n",
       "      <td>1.291120</td>\n",
       "      <td>-0.269870</td>\n",
       "      <td>-1.241519</td>\n",
       "      <td>-0.804308</td>\n",
       "    </tr>\n",
       "    <tr>\n",
       "      <th>2013-01-03</th>\n",
       "      <td>-0.081053</td>\n",
       "      <td>1.601045</td>\n",
       "      <td>-0.137919</td>\n",
       "      <td>-1.039423</td>\n",
       "    </tr>\n",
       "    <tr>\n",
       "      <th>2013-01-04</th>\n",
       "      <td>-0.851981</td>\n",
       "      <td>-0.037322</td>\n",
       "      <td>-2.100062</td>\n",
       "      <td>-0.677439</td>\n",
       "    </tr>\n",
       "    <tr>\n",
       "      <th>2013-01-05</th>\n",
       "      <td>0.613908</td>\n",
       "      <td>0.711906</td>\n",
       "      <td>-0.387672</td>\n",
       "      <td>1.449137</td>\n",
       "    </tr>\n",
       "  </tbody>\n",
       "</table>\n",
       "</div>"
      ],
      "text/plain": [
       "                   A         B         C         D\n",
       "2013-01-01  0.492442 -0.660848  1.325014 -0.134426\n",
       "2013-01-02  1.291120 -0.269870 -1.241519 -0.804308\n",
       "2013-01-03 -0.081053  1.601045 -0.137919 -1.039423\n",
       "2013-01-04 -0.851981 -0.037322 -2.100062 -0.677439\n",
       "2013-01-05  0.613908  0.711906 -0.387672  1.449137"
      ]
     },
     "execution_count": 44,
     "metadata": {},
     "output_type": "execute_result"
    }
   ],
   "source": [
    "df.head()"
   ]
  },
  {
   "cell_type": "code",
   "execution_count": 46,
   "id": "2563653d",
   "metadata": {},
   "outputs": [
    {
     "data": {
      "text/html": [
       "<div>\n",
       "<style scoped>\n",
       "    .dataframe tbody tr th:only-of-type {\n",
       "        vertical-align: middle;\n",
       "    }\n",
       "\n",
       "    .dataframe tbody tr th {\n",
       "        vertical-align: top;\n",
       "    }\n",
       "\n",
       "    .dataframe thead th {\n",
       "        text-align: right;\n",
       "    }\n",
       "</style>\n",
       "<table border=\"1\" class=\"dataframe\">\n",
       "  <thead>\n",
       "    <tr style=\"text-align: right;\">\n",
       "      <th></th>\n",
       "      <th>A</th>\n",
       "      <th>B</th>\n",
       "      <th>C</th>\n",
       "      <th>D</th>\n",
       "    </tr>\n",
       "  </thead>\n",
       "  <tbody>\n",
       "    <tr>\n",
       "      <th>2013-01-03</th>\n",
       "      <td>-0.081053</td>\n",
       "      <td>1.601045</td>\n",
       "      <td>-0.137919</td>\n",
       "      <td>-1.039423</td>\n",
       "    </tr>\n",
       "    <tr>\n",
       "      <th>2013-01-04</th>\n",
       "      <td>-0.851981</td>\n",
       "      <td>-0.037322</td>\n",
       "      <td>-2.100062</td>\n",
       "      <td>-0.677439</td>\n",
       "    </tr>\n",
       "    <tr>\n",
       "      <th>2013-01-05</th>\n",
       "      <td>0.613908</td>\n",
       "      <td>0.711906</td>\n",
       "      <td>-0.387672</td>\n",
       "      <td>1.449137</td>\n",
       "    </tr>\n",
       "    <tr>\n",
       "      <th>2013-01-06</th>\n",
       "      <td>0.677387</td>\n",
       "      <td>-0.292343</td>\n",
       "      <td>0.500383</td>\n",
       "      <td>0.871884</td>\n",
       "    </tr>\n",
       "  </tbody>\n",
       "</table>\n",
       "</div>"
      ],
      "text/plain": [
       "                   A         B         C         D\n",
       "2013-01-03 -0.081053  1.601045 -0.137919 -1.039423\n",
       "2013-01-04 -0.851981 -0.037322 -2.100062 -0.677439\n",
       "2013-01-05  0.613908  0.711906 -0.387672  1.449137\n",
       "2013-01-06  0.677387 -0.292343  0.500383  0.871884"
      ]
     },
     "execution_count": 46,
     "metadata": {},
     "output_type": "execute_result"
    }
   ],
   "source": [
    "df.tail(4)"
   ]
  },
  {
   "cell_type": "code",
   "execution_count": 47,
   "id": "d8d40e30",
   "metadata": {},
   "outputs": [
    {
     "data": {
      "text/plain": [
       "DatetimeIndex(['2013-01-01', '2013-01-02', '2013-01-03', '2013-01-04',\n",
       "               '2013-01-05', '2013-01-06'],\n",
       "              dtype='datetime64[ns]', freq='D')"
      ]
     },
     "execution_count": 47,
     "metadata": {},
     "output_type": "execute_result"
    }
   ],
   "source": [
    "df.index"
   ]
  },
  {
   "cell_type": "code",
   "execution_count": 48,
   "id": "44604e82",
   "metadata": {},
   "outputs": [
    {
     "data": {
      "text/plain": [
       "array([[ 0.49244183, -0.6608481 ,  1.32501434, -0.13442573],\n",
       "       [ 1.29112036, -0.26986998, -1.24151946, -0.80430779],\n",
       "       [-0.08105268,  1.60104517, -0.13791942, -1.0394234 ],\n",
       "       [-0.85198113, -0.03732231, -2.10006187, -0.67743886],\n",
       "       [ 0.61390834,  0.71190586, -0.3876721 ,  1.44913724],\n",
       "       [ 0.67738706, -0.2923432 ,  0.50038344,  0.87188372]])"
      ]
     },
     "execution_count": 48,
     "metadata": {},
     "output_type": "execute_result"
    }
   ],
   "source": [
    "df.to_numpy()"
   ]
  },
  {
   "cell_type": "code",
   "execution_count": 49,
   "id": "c171d36b",
   "metadata": {},
   "outputs": [
    {
     "data": {
      "text/plain": [
       "A           float64\n",
       "B    datetime64[ns]\n",
       "C           float32\n",
       "D             int32\n",
       "E          category\n",
       "F            object\n",
       "dtype: object"
      ]
     },
     "execution_count": 49,
     "metadata": {},
     "output_type": "execute_result"
    }
   ],
   "source": [
    "df2.dtypes"
   ]
  },
  {
   "cell_type": "code",
   "execution_count": 51,
   "id": "d9993521",
   "metadata": {},
   "outputs": [
    {
     "data": {
      "text/html": [
       "<div>\n",
       "<style scoped>\n",
       "    .dataframe tbody tr th:only-of-type {\n",
       "        vertical-align: middle;\n",
       "    }\n",
       "\n",
       "    .dataframe tbody tr th {\n",
       "        vertical-align: top;\n",
       "    }\n",
       "\n",
       "    .dataframe thead th {\n",
       "        text-align: right;\n",
       "    }\n",
       "</style>\n",
       "<table border=\"1\" class=\"dataframe\">\n",
       "  <thead>\n",
       "    <tr style=\"text-align: right;\">\n",
       "      <th></th>\n",
       "      <th>A</th>\n",
       "      <th>B</th>\n",
       "      <th>C</th>\n",
       "      <th>D</th>\n",
       "    </tr>\n",
       "  </thead>\n",
       "  <tbody>\n",
       "    <tr>\n",
       "      <th>count</th>\n",
       "      <td>6.000000</td>\n",
       "      <td>6.000000</td>\n",
       "      <td>6.000000</td>\n",
       "      <td>6.000000</td>\n",
       "    </tr>\n",
       "    <tr>\n",
       "      <th>mean</th>\n",
       "      <td>0.356971</td>\n",
       "      <td>0.175428</td>\n",
       "      <td>-0.340296</td>\n",
       "      <td>-0.055762</td>\n",
       "    </tr>\n",
       "    <tr>\n",
       "      <th>std</th>\n",
       "      <td>0.736628</td>\n",
       "      <td>0.834495</td>\n",
       "      <td>1.219195</td>\n",
       "      <td>1.004572</td>\n",
       "    </tr>\n",
       "    <tr>\n",
       "      <th>min</th>\n",
       "      <td>-0.851981</td>\n",
       "      <td>-0.660848</td>\n",
       "      <td>-2.100062</td>\n",
       "      <td>-1.039423</td>\n",
       "    </tr>\n",
       "    <tr>\n",
       "      <th>25%</th>\n",
       "      <td>0.062321</td>\n",
       "      <td>-0.286725</td>\n",
       "      <td>-1.028058</td>\n",
       "      <td>-0.772591</td>\n",
       "    </tr>\n",
       "    <tr>\n",
       "      <th>50%</th>\n",
       "      <td>0.553175</td>\n",
       "      <td>-0.153596</td>\n",
       "      <td>-0.262796</td>\n",
       "      <td>-0.405932</td>\n",
       "    </tr>\n",
       "    <tr>\n",
       "      <th>75%</th>\n",
       "      <td>0.661517</td>\n",
       "      <td>0.524599</td>\n",
       "      <td>0.340808</td>\n",
       "      <td>0.620306</td>\n",
       "    </tr>\n",
       "    <tr>\n",
       "      <th>max</th>\n",
       "      <td>1.291120</td>\n",
       "      <td>1.601045</td>\n",
       "      <td>1.325014</td>\n",
       "      <td>1.449137</td>\n",
       "    </tr>\n",
       "  </tbody>\n",
       "</table>\n",
       "</div>"
      ],
      "text/plain": [
       "              A         B         C         D\n",
       "count  6.000000  6.000000  6.000000  6.000000\n",
       "mean   0.356971  0.175428 -0.340296 -0.055762\n",
       "std    0.736628  0.834495  1.219195  1.004572\n",
       "min   -0.851981 -0.660848 -2.100062 -1.039423\n",
       "25%    0.062321 -0.286725 -1.028058 -0.772591\n",
       "50%    0.553175 -0.153596 -0.262796 -0.405932\n",
       "75%    0.661517  0.524599  0.340808  0.620306\n",
       "max    1.291120  1.601045  1.325014  1.449137"
      ]
     },
     "execution_count": 51,
     "metadata": {},
     "output_type": "execute_result"
    }
   ],
   "source": [
    "df.describe()\n",
    "# mean是平均值\n",
    "# std是标准差"
   ]
  },
  {
   "cell_type": "code",
   "execution_count": 52,
   "id": "a7fe876c",
   "metadata": {},
   "outputs": [
    {
     "data": {
      "text/html": [
       "<div>\n",
       "<style scoped>\n",
       "    .dataframe tbody tr th:only-of-type {\n",
       "        vertical-align: middle;\n",
       "    }\n",
       "\n",
       "    .dataframe tbody tr th {\n",
       "        vertical-align: top;\n",
       "    }\n",
       "\n",
       "    .dataframe thead th {\n",
       "        text-align: right;\n",
       "    }\n",
       "</style>\n",
       "<table border=\"1\" class=\"dataframe\">\n",
       "  <thead>\n",
       "    <tr style=\"text-align: right;\">\n",
       "      <th></th>\n",
       "      <th>2013-01-01</th>\n",
       "      <th>2013-01-02</th>\n",
       "      <th>2013-01-03</th>\n",
       "      <th>2013-01-04</th>\n",
       "      <th>2013-01-05</th>\n",
       "      <th>2013-01-06</th>\n",
       "    </tr>\n",
       "  </thead>\n",
       "  <tbody>\n",
       "    <tr>\n",
       "      <th>A</th>\n",
       "      <td>0.492442</td>\n",
       "      <td>1.291120</td>\n",
       "      <td>-0.081053</td>\n",
       "      <td>-0.851981</td>\n",
       "      <td>0.613908</td>\n",
       "      <td>0.677387</td>\n",
       "    </tr>\n",
       "    <tr>\n",
       "      <th>B</th>\n",
       "      <td>-0.660848</td>\n",
       "      <td>-0.269870</td>\n",
       "      <td>1.601045</td>\n",
       "      <td>-0.037322</td>\n",
       "      <td>0.711906</td>\n",
       "      <td>-0.292343</td>\n",
       "    </tr>\n",
       "    <tr>\n",
       "      <th>C</th>\n",
       "      <td>1.325014</td>\n",
       "      <td>-1.241519</td>\n",
       "      <td>-0.137919</td>\n",
       "      <td>-2.100062</td>\n",
       "      <td>-0.387672</td>\n",
       "      <td>0.500383</td>\n",
       "    </tr>\n",
       "    <tr>\n",
       "      <th>D</th>\n",
       "      <td>-0.134426</td>\n",
       "      <td>-0.804308</td>\n",
       "      <td>-1.039423</td>\n",
       "      <td>-0.677439</td>\n",
       "      <td>1.449137</td>\n",
       "      <td>0.871884</td>\n",
       "    </tr>\n",
       "  </tbody>\n",
       "</table>\n",
       "</div>"
      ],
      "text/plain": [
       "   2013-01-01  2013-01-02  2013-01-03  2013-01-04  2013-01-05  2013-01-06\n",
       "A    0.492442    1.291120   -0.081053   -0.851981    0.613908    0.677387\n",
       "B   -0.660848   -0.269870    1.601045   -0.037322    0.711906   -0.292343\n",
       "C    1.325014   -1.241519   -0.137919   -2.100062   -0.387672    0.500383\n",
       "D   -0.134426   -0.804308   -1.039423   -0.677439    1.449137    0.871884"
      ]
     },
     "execution_count": 52,
     "metadata": {},
     "output_type": "execute_result"
    }
   ],
   "source": [
    "df.T"
   ]
  },
  {
   "cell_type": "code",
   "execution_count": 53,
   "id": "f3797bf9",
   "metadata": {},
   "outputs": [
    {
     "data": {
      "text/html": [
       "<div>\n",
       "<style scoped>\n",
       "    .dataframe tbody tr th:only-of-type {\n",
       "        vertical-align: middle;\n",
       "    }\n",
       "\n",
       "    .dataframe tbody tr th {\n",
       "        vertical-align: top;\n",
       "    }\n",
       "\n",
       "    .dataframe thead th {\n",
       "        text-align: right;\n",
       "    }\n",
       "</style>\n",
       "<table border=\"1\" class=\"dataframe\">\n",
       "  <thead>\n",
       "    <tr style=\"text-align: right;\">\n",
       "      <th></th>\n",
       "      <th>D</th>\n",
       "      <th>C</th>\n",
       "      <th>B</th>\n",
       "      <th>A</th>\n",
       "    </tr>\n",
       "  </thead>\n",
       "  <tbody>\n",
       "    <tr>\n",
       "      <th>2013-01-01</th>\n",
       "      <td>-0.134426</td>\n",
       "      <td>1.325014</td>\n",
       "      <td>-0.660848</td>\n",
       "      <td>0.492442</td>\n",
       "    </tr>\n",
       "    <tr>\n",
       "      <th>2013-01-02</th>\n",
       "      <td>-0.804308</td>\n",
       "      <td>-1.241519</td>\n",
       "      <td>-0.269870</td>\n",
       "      <td>1.291120</td>\n",
       "    </tr>\n",
       "    <tr>\n",
       "      <th>2013-01-03</th>\n",
       "      <td>-1.039423</td>\n",
       "      <td>-0.137919</td>\n",
       "      <td>1.601045</td>\n",
       "      <td>-0.081053</td>\n",
       "    </tr>\n",
       "    <tr>\n",
       "      <th>2013-01-04</th>\n",
       "      <td>-0.677439</td>\n",
       "      <td>-2.100062</td>\n",
       "      <td>-0.037322</td>\n",
       "      <td>-0.851981</td>\n",
       "    </tr>\n",
       "    <tr>\n",
       "      <th>2013-01-05</th>\n",
       "      <td>1.449137</td>\n",
       "      <td>-0.387672</td>\n",
       "      <td>0.711906</td>\n",
       "      <td>0.613908</td>\n",
       "    </tr>\n",
       "    <tr>\n",
       "      <th>2013-01-06</th>\n",
       "      <td>0.871884</td>\n",
       "      <td>0.500383</td>\n",
       "      <td>-0.292343</td>\n",
       "      <td>0.677387</td>\n",
       "    </tr>\n",
       "  </tbody>\n",
       "</table>\n",
       "</div>"
      ],
      "text/plain": [
       "                   D         C         B         A\n",
       "2013-01-01 -0.134426  1.325014 -0.660848  0.492442\n",
       "2013-01-02 -0.804308 -1.241519 -0.269870  1.291120\n",
       "2013-01-03 -1.039423 -0.137919  1.601045 -0.081053\n",
       "2013-01-04 -0.677439 -2.100062 -0.037322 -0.851981\n",
       "2013-01-05  1.449137 -0.387672  0.711906  0.613908\n",
       "2013-01-06  0.871884  0.500383 -0.292343  0.677387"
      ]
     },
     "execution_count": 53,
     "metadata": {},
     "output_type": "execute_result"
    }
   ],
   "source": [
    "df.sort_index(axis=1,ascending=False)"
   ]
  },
  {
   "cell_type": "code",
   "execution_count": 54,
   "id": "c9b59df2",
   "metadata": {},
   "outputs": [
    {
     "data": {
      "text/html": [
       "<div>\n",
       "<style scoped>\n",
       "    .dataframe tbody tr th:only-of-type {\n",
       "        vertical-align: middle;\n",
       "    }\n",
       "\n",
       "    .dataframe tbody tr th {\n",
       "        vertical-align: top;\n",
       "    }\n",
       "\n",
       "    .dataframe thead th {\n",
       "        text-align: right;\n",
       "    }\n",
       "</style>\n",
       "<table border=\"1\" class=\"dataframe\">\n",
       "  <thead>\n",
       "    <tr style=\"text-align: right;\">\n",
       "      <th></th>\n",
       "      <th>A</th>\n",
       "      <th>B</th>\n",
       "      <th>C</th>\n",
       "      <th>D</th>\n",
       "    </tr>\n",
       "  </thead>\n",
       "  <tbody>\n",
       "    <tr>\n",
       "      <th>2013-01-01</th>\n",
       "      <td>0.492442</td>\n",
       "      <td>-0.660848</td>\n",
       "      <td>1.325014</td>\n",
       "      <td>-0.134426</td>\n",
       "    </tr>\n",
       "    <tr>\n",
       "      <th>2013-01-06</th>\n",
       "      <td>0.677387</td>\n",
       "      <td>-0.292343</td>\n",
       "      <td>0.500383</td>\n",
       "      <td>0.871884</td>\n",
       "    </tr>\n",
       "    <tr>\n",
       "      <th>2013-01-02</th>\n",
       "      <td>1.291120</td>\n",
       "      <td>-0.269870</td>\n",
       "      <td>-1.241519</td>\n",
       "      <td>-0.804308</td>\n",
       "    </tr>\n",
       "    <tr>\n",
       "      <th>2013-01-04</th>\n",
       "      <td>-0.851981</td>\n",
       "      <td>-0.037322</td>\n",
       "      <td>-2.100062</td>\n",
       "      <td>-0.677439</td>\n",
       "    </tr>\n",
       "    <tr>\n",
       "      <th>2013-01-05</th>\n",
       "      <td>0.613908</td>\n",
       "      <td>0.711906</td>\n",
       "      <td>-0.387672</td>\n",
       "      <td>1.449137</td>\n",
       "    </tr>\n",
       "    <tr>\n",
       "      <th>2013-01-03</th>\n",
       "      <td>-0.081053</td>\n",
       "      <td>1.601045</td>\n",
       "      <td>-0.137919</td>\n",
       "      <td>-1.039423</td>\n",
       "    </tr>\n",
       "  </tbody>\n",
       "</table>\n",
       "</div>"
      ],
      "text/plain": [
       "                   A         B         C         D\n",
       "2013-01-01  0.492442 -0.660848  1.325014 -0.134426\n",
       "2013-01-06  0.677387 -0.292343  0.500383  0.871884\n",
       "2013-01-02  1.291120 -0.269870 -1.241519 -0.804308\n",
       "2013-01-04 -0.851981 -0.037322 -2.100062 -0.677439\n",
       "2013-01-05  0.613908  0.711906 -0.387672  1.449137\n",
       "2013-01-03 -0.081053  1.601045 -0.137919 -1.039423"
      ]
     },
     "execution_count": 54,
     "metadata": {},
     "output_type": "execute_result"
    }
   ],
   "source": [
    "df.sort_values(by='B')"
   ]
  },
  {
   "cell_type": "code",
   "execution_count": 55,
   "id": "0163e275",
   "metadata": {},
   "outputs": [
    {
     "data": {
      "text/html": [
       "<div>\n",
       "<style scoped>\n",
       "    .dataframe tbody tr th:only-of-type {\n",
       "        vertical-align: middle;\n",
       "    }\n",
       "\n",
       "    .dataframe tbody tr th {\n",
       "        vertical-align: top;\n",
       "    }\n",
       "\n",
       "    .dataframe thead th {\n",
       "        text-align: right;\n",
       "    }\n",
       "</style>\n",
       "<table border=\"1\" class=\"dataframe\">\n",
       "  <thead>\n",
       "    <tr style=\"text-align: right;\">\n",
       "      <th></th>\n",
       "      <th>A</th>\n",
       "      <th>B</th>\n",
       "      <th>C</th>\n",
       "      <th>D</th>\n",
       "    </tr>\n",
       "  </thead>\n",
       "  <tbody>\n",
       "    <tr>\n",
       "      <th>2013-01-01</th>\n",
       "      <td>0.492442</td>\n",
       "      <td>-0.660848</td>\n",
       "      <td>1.325014</td>\n",
       "      <td>-0.134426</td>\n",
       "    </tr>\n",
       "    <tr>\n",
       "      <th>2013-01-02</th>\n",
       "      <td>1.291120</td>\n",
       "      <td>-0.269870</td>\n",
       "      <td>-1.241519</td>\n",
       "      <td>-0.804308</td>\n",
       "    </tr>\n",
       "    <tr>\n",
       "      <th>2013-01-03</th>\n",
       "      <td>-0.081053</td>\n",
       "      <td>1.601045</td>\n",
       "      <td>-0.137919</td>\n",
       "      <td>-1.039423</td>\n",
       "    </tr>\n",
       "  </tbody>\n",
       "</table>\n",
       "</div>"
      ],
      "text/plain": [
       "                   A         B         C         D\n",
       "2013-01-01  0.492442 -0.660848  1.325014 -0.134426\n",
       "2013-01-02  1.291120 -0.269870 -1.241519 -0.804308\n",
       "2013-01-03 -0.081053  1.601045 -0.137919 -1.039423"
      ]
     },
     "execution_count": 55,
     "metadata": {},
     "output_type": "execute_result"
    }
   ],
   "source": [
    "df[0:3]"
   ]
  },
  {
   "cell_type": "code",
   "execution_count": 56,
   "id": "9e90a4ce",
   "metadata": {},
   "outputs": [
    {
     "data": {
      "text/plain": [
       "A    0.492442\n",
       "B   -0.660848\n",
       "C    1.325014\n",
       "D   -0.134426\n",
       "Name: 2013-01-01 00:00:00, dtype: float64"
      ]
     },
     "execution_count": 56,
     "metadata": {},
     "output_type": "execute_result"
    }
   ],
   "source": [
    "df.loc[dates[0]]"
   ]
  },
  {
   "cell_type": "code",
   "execution_count": 57,
   "id": "ae1a6e40",
   "metadata": {},
   "outputs": [
    {
     "data": {
      "text/html": [
       "<div>\n",
       "<style scoped>\n",
       "    .dataframe tbody tr th:only-of-type {\n",
       "        vertical-align: middle;\n",
       "    }\n",
       "\n",
       "    .dataframe tbody tr th {\n",
       "        vertical-align: top;\n",
       "    }\n",
       "\n",
       "    .dataframe thead th {\n",
       "        text-align: right;\n",
       "    }\n",
       "</style>\n",
       "<table border=\"1\" class=\"dataframe\">\n",
       "  <thead>\n",
       "    <tr style=\"text-align: right;\">\n",
       "      <th></th>\n",
       "      <th>A</th>\n",
       "      <th>B</th>\n",
       "    </tr>\n",
       "  </thead>\n",
       "  <tbody>\n",
       "    <tr>\n",
       "      <th>2013-01-01</th>\n",
       "      <td>0.492442</td>\n",
       "      <td>-0.660848</td>\n",
       "    </tr>\n",
       "    <tr>\n",
       "      <th>2013-01-02</th>\n",
       "      <td>1.291120</td>\n",
       "      <td>-0.269870</td>\n",
       "    </tr>\n",
       "    <tr>\n",
       "      <th>2013-01-03</th>\n",
       "      <td>-0.081053</td>\n",
       "      <td>1.601045</td>\n",
       "    </tr>\n",
       "    <tr>\n",
       "      <th>2013-01-04</th>\n",
       "      <td>-0.851981</td>\n",
       "      <td>-0.037322</td>\n",
       "    </tr>\n",
       "    <tr>\n",
       "      <th>2013-01-05</th>\n",
       "      <td>0.613908</td>\n",
       "      <td>0.711906</td>\n",
       "    </tr>\n",
       "    <tr>\n",
       "      <th>2013-01-06</th>\n",
       "      <td>0.677387</td>\n",
       "      <td>-0.292343</td>\n",
       "    </tr>\n",
       "  </tbody>\n",
       "</table>\n",
       "</div>"
      ],
      "text/plain": [
       "                   A         B\n",
       "2013-01-01  0.492442 -0.660848\n",
       "2013-01-02  1.291120 -0.269870\n",
       "2013-01-03 -0.081053  1.601045\n",
       "2013-01-04 -0.851981 -0.037322\n",
       "2013-01-05  0.613908  0.711906\n",
       "2013-01-06  0.677387 -0.292343"
      ]
     },
     "execution_count": 57,
     "metadata": {},
     "output_type": "execute_result"
    }
   ],
   "source": [
    "df.loc[:,[\"A\",\"B\"]]"
   ]
  },
  {
   "cell_type": "code",
   "execution_count": 58,
   "id": "d78db8d9",
   "metadata": {},
   "outputs": [
    {
     "data": {
      "text/html": [
       "<div>\n",
       "<style scoped>\n",
       "    .dataframe tbody tr th:only-of-type {\n",
       "        vertical-align: middle;\n",
       "    }\n",
       "\n",
       "    .dataframe tbody tr th {\n",
       "        vertical-align: top;\n",
       "    }\n",
       "\n",
       "    .dataframe thead th {\n",
       "        text-align: right;\n",
       "    }\n",
       "</style>\n",
       "<table border=\"1\" class=\"dataframe\">\n",
       "  <thead>\n",
       "    <tr style=\"text-align: right;\">\n",
       "      <th></th>\n",
       "      <th>A</th>\n",
       "      <th>B</th>\n",
       "    </tr>\n",
       "  </thead>\n",
       "  <tbody>\n",
       "    <tr>\n",
       "      <th>2013-01-02</th>\n",
       "      <td>1.291120</td>\n",
       "      <td>-0.269870</td>\n",
       "    </tr>\n",
       "    <tr>\n",
       "      <th>2013-01-03</th>\n",
       "      <td>-0.081053</td>\n",
       "      <td>1.601045</td>\n",
       "    </tr>\n",
       "    <tr>\n",
       "      <th>2013-01-04</th>\n",
       "      <td>-0.851981</td>\n",
       "      <td>-0.037322</td>\n",
       "    </tr>\n",
       "  </tbody>\n",
       "</table>\n",
       "</div>"
      ],
      "text/plain": [
       "                   A         B\n",
       "2013-01-02  1.291120 -0.269870\n",
       "2013-01-03 -0.081053  1.601045\n",
       "2013-01-04 -0.851981 -0.037322"
      ]
     },
     "execution_count": 58,
     "metadata": {},
     "output_type": "execute_result"
    }
   ],
   "source": [
    "df.loc[\"20130102\":\"20130104\", [\"A\", \"B\"]]"
   ]
  },
  {
   "cell_type": "code",
   "execution_count": 59,
   "id": "8937471c",
   "metadata": {},
   "outputs": [
    {
     "data": {
      "text/plain": [
       "0.4924418305199361"
      ]
     },
     "execution_count": 59,
     "metadata": {},
     "output_type": "execute_result"
    }
   ],
   "source": [
    "df.at[dates[0], \"A\"]"
   ]
  },
  {
   "cell_type": "code",
   "execution_count": 60,
   "id": "3ae898ff",
   "metadata": {},
   "outputs": [
    {
     "data": {
      "text/plain": [
       "A   -0.851981\n",
       "B   -0.037322\n",
       "C   -2.100062\n",
       "D   -0.677439\n",
       "Name: 2013-01-04 00:00:00, dtype: float64"
      ]
     },
     "execution_count": 60,
     "metadata": {},
     "output_type": "execute_result"
    }
   ],
   "source": [
    "df.iloc[3]"
   ]
  }
 ],
 "metadata": {
  "kernelspec": {
   "display_name": "myenv",
   "language": "python",
   "name": "python3"
  },
  "language_info": {
   "codemirror_mode": {
    "name": "ipython",
    "version": 3
   },
   "file_extension": ".py",
   "mimetype": "text/x-python",
   "name": "python",
   "nbconvert_exporter": "python",
   "pygments_lexer": "ipython3",
   "version": "3.8.20"
  }
 },
 "nbformat": 4,
 "nbformat_minor": 5
}
